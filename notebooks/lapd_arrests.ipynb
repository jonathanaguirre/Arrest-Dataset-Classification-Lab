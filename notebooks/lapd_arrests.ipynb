{
  "metadata": {
    "kernelspec": {
      "name": "python",
      "display_name": "Python (Pyodide)",
      "language": "python"
    },
    "language_info": {
      "codemirror_mode": {
        "name": "python",
        "version": 3
      },
      "file_extension": ".py",
      "mimetype": "text/x-python",
      "name": "python",
      "nbconvert_exporter": "python",
      "pygments_lexer": "ipython3",
      "version": "3.8"
    }
  },
  "nbformat_minor": 5,
  "nbformat": 4,
  "cells": [
    {
      "id": "958af2c3-85e7-4007-8278-564c84e04461",
      "cell_type": "markdown",
      "source": "# Predicting Arrests Using LAPD Crime Data\n\nThis project uses publicly available LAPD crime data (2020–Present) to train a machine learning classifier that predicts whether an arrest will be made during a stop or incident. Key features include time, location, victim demographics, crime type, and weapon use.\n\n## Dataset Source\n[LAPD Open Data Portal](https://data.lacity.org/Public-Safety/Crime-Data-from-2020-to-Present/2nrs-mtv8)\n\n## Objective\nTo predict the likelihood of arrest using a subset of cleaned, interpretable features — and to do so using only a Chromebook and free Jupyter environments to encourage ML accessibility.\n",
      "metadata": {}
    },
    {
      "id": "6b49e86f-4e3e-42b1-aad9-0a5a3b487af0",
      "cell_type": "code",
      "source": "import pandas as pd\n\n# Load the dataset\ndf = pd.read_csv('arrests.csv')\n\n# Preview the data\ndf.head()",
      "metadata": {
        "trusted": true
      },
      "outputs": [
        {
          "execution_count": 1,
          "output_type": "execute_result",
          "data": {
            "text/plain": "   TIME OCC  AREA NAME       Crm Cd Desc  Vict Age Vict Sex Vict Descent  \\\n0      2130   Wilshire  VEHICLE - STOLEN         0        M            O   \n1      2030  Northeast  VEHICLE - STOLEN         0      NaN          NaN   \n2        30    Central          BURGLARY         0        M            W   \n3      1615  Hollywood           PIMPING        23        F            H   \n4        30     Harbor  VEHICLE - STOLEN         0      NaN          NaN   \n\n    Status Desc  \n0  Adult Arrest  \n1  Adult Arrest  \n2  Adult Arrest  \n3  Adult Arrest  \n4  Adult Arrest  ",
            "text/html": "<div>\n<style scoped>\n    .dataframe tbody tr th:only-of-type {\n        vertical-align: middle;\n    }\n\n    .dataframe tbody tr th {\n        vertical-align: top;\n    }\n\n    .dataframe thead th {\n        text-align: right;\n    }\n</style>\n<table border=\"1\" class=\"dataframe\">\n  <thead>\n    <tr style=\"text-align: right;\">\n      <th></th>\n      <th>TIME OCC</th>\n      <th>AREA NAME</th>\n      <th>Crm Cd Desc</th>\n      <th>Vict Age</th>\n      <th>Vict Sex</th>\n      <th>Vict Descent</th>\n      <th>Status Desc</th>\n    </tr>\n  </thead>\n  <tbody>\n    <tr>\n      <th>0</th>\n      <td>2130</td>\n      <td>Wilshire</td>\n      <td>VEHICLE - STOLEN</td>\n      <td>0</td>\n      <td>M</td>\n      <td>O</td>\n      <td>Adult Arrest</td>\n    </tr>\n    <tr>\n      <th>1</th>\n      <td>2030</td>\n      <td>Northeast</td>\n      <td>VEHICLE - STOLEN</td>\n      <td>0</td>\n      <td>NaN</td>\n      <td>NaN</td>\n      <td>Adult Arrest</td>\n    </tr>\n    <tr>\n      <th>2</th>\n      <td>30</td>\n      <td>Central</td>\n      <td>BURGLARY</td>\n      <td>0</td>\n      <td>M</td>\n      <td>W</td>\n      <td>Adult Arrest</td>\n    </tr>\n    <tr>\n      <th>3</th>\n      <td>1615</td>\n      <td>Hollywood</td>\n      <td>PIMPING</td>\n      <td>23</td>\n      <td>F</td>\n      <td>H</td>\n      <td>Adult Arrest</td>\n    </tr>\n    <tr>\n      <th>4</th>\n      <td>30</td>\n      <td>Harbor</td>\n      <td>VEHICLE - STOLEN</td>\n      <td>0</td>\n      <td>NaN</td>\n      <td>NaN</td>\n      <td>Adult Arrest</td>\n    </tr>\n  </tbody>\n</table>\n</div>"
          },
          "metadata": {}
        }
      ],
      "execution_count": 1
    },
    {
      "id": "9395f1e1-da5f-4d51-bf70-71c507344b71",
      "cell_type": "code",
      "source": "# General structure\ndf.info()\n\n# Count of nulls per column\ndf.isnull().sum()",
      "metadata": {
        "trusted": true
      },
      "outputs": [
        {
          "name": "stdout",
          "output_type": "stream",
          "text": "<class 'pandas.core.frame.DataFrame'>\nRangeIndex: 201112 entries, 0 to 201111\nData columns (total 7 columns):\n #   Column        Non-Null Count   Dtype \n---  ------        --------------   ----- \n 0   TIME OCC      201112 non-null  int64 \n 1   AREA NAME     201112 non-null  object\n 2   Crm Cd Desc   201112 non-null  object\n 3   Vict Age      201112 non-null  int64 \n 4   Vict Sex      193403 non-null  object\n 5   Vict Descent  193397 non-null  object\n 6   Status Desc   201112 non-null  object\ndtypes: int64(2), object(5)\nmemory usage: 6.9+ MB\n"
        },
        {
          "execution_count": 2,
          "output_type": "execute_result",
          "data": {
            "text/plain": "TIME OCC           0\nAREA NAME          0\nCrm Cd Desc        0\nVict Age           0\nVict Sex        7709\nVict Descent    7715\nStatus Desc        0\ndtype: int64"
          },
          "metadata": {}
        }
      ],
      "execution_count": 2
    },
    {
      "id": "0ff9baf4-78a6-4c61-a5e1-09d9fcdc5cff",
      "cell_type": "code",
      "source": "# Create binary target column\ndf['arrest_made'] = df['Status Desc'].apply(lambda x: 1 if 'Arrest' in str(x) else 0)\n\n# Check distribution\ndf['arrest_made'].value_counts()",
      "metadata": {
        "trusted": true
      },
      "outputs": [
        {
          "execution_count": 3,
          "output_type": "execute_result",
          "data": {
            "text/plain": "arrest_made\n0    111034\n1     90078\nName: count, dtype: int64"
          },
          "metadata": {}
        }
      ],
      "execution_count": 3
    },
    {
      "id": "4689589f-0f31-49af-a7f8-2d0a4500df15",
      "cell_type": "code",
      "source": "# Since arrest_made was created, we don't need Status Desc.\ndf.drop(columns=['Status Desc'], inplace=True)",
      "metadata": {
        "trusted": true
      },
      "outputs": [],
      "execution_count": 4
    },
    {
      "id": "10214419-adfc-4fbb-9dfe-fedd9c3a96dd",
      "cell_type": "code",
      "source": "# Drop rows with missing values in 'Vict Sex' and 'Vict Descent' columns\ndf.dropna(subset=['Vict Sex', 'Vict Descent'], inplace=True)\n\n# Check the updated structure and row count of the dataset\ndf.info()",
      "metadata": {
        "trusted": true
      },
      "outputs": [
        {
          "name": "stdout",
          "output_type": "stream",
          "text": "<class 'pandas.core.frame.DataFrame'>\nIndex: 193397 entries, 0 to 201111\nData columns (total 7 columns):\n #   Column        Non-Null Count   Dtype \n---  ------        --------------   ----- \n 0   TIME OCC      193397 non-null  int64 \n 1   AREA NAME     193397 non-null  object\n 2   Crm Cd Desc   193397 non-null  object\n 3   Vict Age      193397 non-null  int64 \n 4   Vict Sex      193397 non-null  object\n 5   Vict Descent  193397 non-null  object\n 6   arrest_made   193397 non-null  int64 \ndtypes: int64(3), object(4)\nmemory usage: 8.9+ MB\n"
        }
      ],
      "execution_count": 5
    },
    {
      "id": "01eb87f3-cc6f-48bb-9176-3dba69ebc82c",
      "cell_type": "code",
      "source": "# One-hot encoding converts each categorical variable into multiple binary columns, one for \n# each unique category (called a level or facet). Each row gets a 1 in the column matching\n# its category and 0 everywhere else.\ndf_encoded = pd.get_dummies(df, columns=['AREA NAME', 'Crm Cd Desc', 'Vict Sex', 'Vict Descent'])\n\n# Check the resulting shape and column names after encoding\nprint(\"Encoded shape:\", df_encoded.shape)\ndf_encoded.columns.to_list()[:10]  # Preview first 10 column names",
      "metadata": {
        "trusted": true
      },
      "outputs": [
        {
          "name": "stdout",
          "output_type": "stream",
          "text": "Encoded shape: (193397, 176)\n"
        },
        {
          "execution_count": 16,
          "output_type": "execute_result",
          "data": {
            "text/plain": "['TIME OCC',\n 'Vict Age',\n 'arrest_made',\n 'AREA NAME_77th Street',\n 'AREA NAME_Central',\n 'AREA NAME_Devonshire',\n 'AREA NAME_Foothill',\n 'AREA NAME_Harbor',\n 'AREA NAME_Hollenbeck',\n 'AREA NAME_Hollywood']"
          },
          "metadata": {}
        }
      ],
      "execution_count": 16
    },
    {
      "id": "ab0af4a3-94a8-45de-9046-0cc9af00a95f",
      "cell_type": "code",
      "source": "from sklearn.model_selection import train_test_split\n\n# Separate features (X) and target (y)\nX = df_encoded.drop('arrest_made', axis=1)  # All columns except the target\ny = df_encoded['arrest_made']               # Target column\n\n# Split into training and testing sets (80/20 split)\nX_train, X_test, y_train, y_test = train_test_split(X, y, test_size=0.2, random_state=42)\n\n# Check resulting shapes\nprint(\"X_train shape:\", X_train.shape)\nprint(\"X_test shape:\", X_test.shape)\nprint(\"y_train value counts:\\n\", y_train.value_counts(normalize=True))",
      "metadata": {
        "trusted": true
      },
      "outputs": [
        {
          "name": "stdout",
          "output_type": "stream",
          "text": "X_train shape: (154717, 175)\nX_test shape: (38680, 175)\ny_train value counts:\n arrest_made\n0    0.559505\n1    0.440495\nName: proportion, dtype: float64\n"
        }
      ],
      "execution_count": 17
    }
  ]
}